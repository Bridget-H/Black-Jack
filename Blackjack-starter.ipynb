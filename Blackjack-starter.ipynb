{
 "cells": [
  {
   "cell_type": "markdown",
   "metadata": {},
   "source": [
    "## Python Blackjack\n",
    "For this project you will make a Blackjack game using Python. Click <a href=\"http://www.hitorstand.net/strategy.php\">here</a> to familiarize yourself with the the rules of the game. You won't be implementing every rule \"down to the letter\" with the game, but we will doing a simpler version of the game. This assignment will be given to further test your knowledge on object-oriented programming concepts.\n",
    "\n",
    "### Rules:\n",
    "\n",
    "`1. ` The game will have two players: the Dealer and the Player. The game will start off with a deck of 52 cards. The 52 cards will consist of 4 different suits: Clubs, Diamonds, Hearts and Spades. For each suit, there will be cards numbered 1 through 13. <br>\n",
    "**Note: No wildcards will be used in the program**\n",
    "\n",
    "`2. ` When the game begins, the dealer will shuffle the deck of cards, making them randomized. After the dealer shuffles, it will deal the player 2 cards and will deal itself 2 cards from. The Player should be able to see both of their own cards, but should only be able to see one of the Dealer's cards.\n",
    " \n",
    "`3. ` The objective of the game is for the Player to count their cards after they're dealt. If they're not satisfied with the number, they have the ability to 'Hit'. A hit allows the dealer to deal the Player one additional card. The Player can hit as many times as they'd like as long as they don't 'Bust'. A bust is when the Player is dealt cards that total more than 21.\n",
    "\n",
    "`4. ` If the dealer deals the Player cards equal to 21 on the **first** deal, the Player wins. This is referred to as Blackjack. Blackjack is **NOT** the same as getting cards that equal up to 21 after the first deal. Blackjack can only be attained on the first deal.\n",
    "\n",
    "`5. ` The Player will never see the Dealer's hand until the Player chooses to 'stand'. A Stand is when the player tells the dealer to not deal it anymore cards. Once the player chooses to Stand, the Player and the Dealer will compare their hands. Whoever has the higher number wins. Keep in mind that the Dealer can also bust. "
   ]
  },
  {
   "cell_type": "code",
   "execution_count": 71,
   "metadata": {},
   "outputs": [
    {
     "name": "stdout",
     "output_type": "stream",
     "text": [
      "________ROUND 1_________\n",
      "player's hand: [('hearts', 10), ('spades', 3)]\n",
      "player points: 13\n",
      "dealer's hand: [('hearts', 6)] + one card that has not yet been turned over\n",
      "dealer points: 6 + a mystery card\n",
      "2Hit or stand? (hit or stand) hit\n",
      "________ROUND 2_________\n",
      "player's hand: [('hearts', 10), ('spades', 3), ('hearts', 5)]\n",
      "player points: 18\n",
      "dealer points: 6 + a mystery card\n",
      "3Hit or stand? (hit or stand) stand\n",
      "2Hit or stand? (hit or stand) stand\n",
      "________STAND_________\n",
      "player's hand: [('hearts', 10), ('spades', 3), ('hearts', 5)]\n",
      "player points: 18\n",
      "dealer's hand: [('hearts', 6), ('clubs', 11)]\n",
      "dealer points: 17\n"
     ]
    },
    {
     "data": {
      "text/plain": [
       "'player wins'"
      ]
     },
     "execution_count": 71,
     "metadata": {},
     "output_type": "execute_result"
    }
   ],
   "source": [
    "def runGame():\n",
    "    import random\n",
    "    suits = ['hearts', 'spades', 'clubs', 'diamonds']\n",
    "    values = [1, 2, 3, 4, 5, 6, 7, 8, 9, 10, 11, 12, 13]\n",
    "    cards = [(suit, value) for suit in suits for value in values]\n",
    "    shuf = random.shuffle(cards)\n",
    "    playerhand = []\n",
    "    playerpoints = 0\n",
    "    dealerhand = []\n",
    "    dealerpoints = 0\n",
    "    playerhand.append(cards[0])\n",
    "    playerhand.append(cards[1])\n",
    "    for card in playerhand:\n",
    "        x = (card[1])\n",
    "        playerpoints += x\n",
    "    print(\"________ROUND 1_________\")\n",
    "    print(f\"player's hand: {playerhand}\")\n",
    "    print(f\"player points: {playerpoints}\")\n",
    "    dealerhand.append(cards[-1])\n",
    "    for card in dealerhand:\n",
    "        x = (card[1])\n",
    "        dealerpoints += x\n",
    "    print(f\"dealer's hand: {dealerhand} + one card that has not yet been turned over\")\n",
    "    print(f\"dealer points: {dealerpoints} + a mystery card\")\n",
    "    \n",
    "    \n",
    "    if playerpoints == 21:\n",
    "        return(\"Blackjack! you win\")\n",
    "    elif playerpoints > 21:\n",
    "            return(\"Bust! you lose\")\n",
    "        \n",
    "    playerpoints = 0\n",
    "   \n",
    "    while True:\n",
    "            play = input(\"2Hit or stand? (hit or stand) \")\n",
    "            if play.lower() == \"hit\":\n",
    "                playerhand.append(cards [2])\n",
    "                playerpoints = 0\n",
    "                for card in playerhand:\n",
    "                        x = (card[1])\n",
    "                        playerpoints += x\n",
    "                print(\"________ROUND 2_________\")\n",
    "                print(f\"player's hand: {playerhand}\")\n",
    "                print(f\"player points: {playerpoints}\")\n",
    "                print(f\"dealer points: {dealerpoints} + a mystery card\")\n",
    "                if playerpoints > 21:\n",
    "                    return(\"Bust! you lose\")\n",
    "                play = input(\"3Hit or stand? (hit or stand) \")\n",
    "                if play.lower() == \"hit\":     \n",
    "                    playerhand.append(cards [3])\n",
    "                    playerpoints = 0\n",
    "                    for card in playerhand:\n",
    "                        x = (card[1])\n",
    "                        playerpoints += x\n",
    "                    print(\"________ROUND 3_________\")\n",
    "                    print(f\"player's hand: {playerhand}\")\n",
    "                    print(f\"player points: {playerpoints}\")\n",
    "                    print(f\"dealer points: {dealerpoints} + a mystery card\")\n",
    "                    if playerpoints > 21:\n",
    "                        return(\"Bust! you lose\")\n",
    "                        \n",
    "                    play = input(\"4Hit or stand? (hit or stand) \")\n",
    "                    if play.lower() == \"hit\":\n",
    "                        playerhand.append(cards [4])\n",
    "                        playerpoints = 0\n",
    "                        for card in playerhand:\n",
    "                                x = (card[1])\n",
    "                                playerpoints += x\n",
    "                        print(\"________ROUND 4_________\")\n",
    "                        print(f\"player's hand: {playerhand}\")\n",
    "                        print(f\"player points: {playerpoints}\")\n",
    "                        print(f\"dealer points: {dealerpoints} + a mystery card\")\n",
    "                        if playerpoints > 21:\n",
    "                            return(\"Bust! you lose\")\n",
    "                            \n",
    "                        play = input(\"5Hit or stand? (hit or stand) \")\n",
    "                        if play.lower() == \"hit\":     \n",
    "                            playerhand.append(cards [5])\n",
    "                            playerpoints = 0\n",
    "                            for card in playerhand:\n",
    "                                x = (card[1])\n",
    "                                playerpoints += x\n",
    "                            print(\"________ROUND 5_________\")\n",
    "                            print(f\"player's hand: {playerhand}\")\n",
    "                            print(f\"player points: {playerpoints}\")\n",
    "                            print(f\"dealer points: {dealerpoints} + a mystery card\")\n",
    "                            if playerpoints > 21:\n",
    "                                return(\"Bust! you lose\")\n",
    "                                     \n",
    "                    \n",
    "                                \n",
    "            elif play.lower() == \"stand\":\n",
    "                print(\"________STAND_________\")\n",
    "                dealerpoints = 0 \n",
    "                playerpoints = 0\n",
    "                for card in playerhand:\n",
    "                    x = (card[1])\n",
    "                    playerpoints += x\n",
    "                print(f\"player's hand: {playerhand}\")\n",
    "                print(f\"player points: {playerpoints}\")\n",
    "                dealerhand.append(cards[-2])\n",
    "                for card in dealerhand:\n",
    "                    x = (card[1])\n",
    "                    dealerpoints += x\n",
    "                print(f\"dealer's hand: {dealerhand}\")\n",
    "                print(f\"dealer points: {dealerpoints}\")\n",
    "                if dealerpoints < 22 and dealerpoints >= playerpoints:\n",
    "                    return(\"dealer wins, you lose\")\n",
    "                else: \n",
    "                        return(\"player wins\")\n",
    "                               \n",
    "                        \n",
    "                        \n",
    "runGame()          "
   ]
  },
  {
   "cell_type": "code",
   "execution_count": 61,
   "metadata": {},
   "outputs": [
    {
     "name": "stdout",
     "output_type": "stream",
     "text": [
      "list1:  [1, 2, 3]\n",
      "[1, 2]\n",
      "list1:  [1, 2]\n",
      "[1]\n",
      "list1:  [1]\n",
      "[]\n",
      "list1:  []\n"
     ]
    },
    {
     "data": {
      "text/plain": [
       "'done'"
      ]
     },
     "execution_count": 61,
     "metadata": {},
     "output_type": "execute_result"
    }
   ],
   "source": [
    "##shoha practice\n",
    "#def myRecursiveFunction(list1):\n",
    "#    print(\"list1: \", list1)\n",
    "#    if len(list1)==0:\n",
    "#        return \"done\"\n",
    "#    \n",
    "#    list2=list1[:-1]\n",
    "#    print(list2)\n",
    "#    \n",
    "#    return myRecursiveFunction(list2)\n",
    "#\n",
    "#myRecursiveFunction([1,2,3])"
   ]
  },
  {
   "cell_type": "code",
   "execution_count": 37,
   "metadata": {},
   "outputs": [],
   "source": [
    "#def fib(num):\n",
    "#    if num ==0:\n",
    "#        return 1\n",
    "#    if num == 1:\n",
    "#        return 1\n",
    "#    if num <0:\n",
    "#        return \"error\"\n",
    "#    else:\n",
    "#        before = fib(num-1)\n",
    "#        two_before = fib(num-2)\n",
    "#        return before + two_before\n",
    "#    \n",
    "#    1,1,2,3,5,8,13,21"
   ]
  },
  {
   "cell_type": "code",
   "execution_count": null,
   "metadata": {},
   "outputs": [],
   "source": []
  }
 ],
 "metadata": {
  "kernelspec": {
   "display_name": "Python 3",
   "language": "python",
   "name": "python3"
  },
  "language_info": {
   "codemirror_mode": {
    "name": "ipython",
    "version": 3
   },
   "file_extension": ".py",
   "mimetype": "text/x-python",
   "name": "python",
   "nbconvert_exporter": "python",
   "pygments_lexer": "ipython3",
   "version": "3.8.8"
  }
 },
 "nbformat": 4,
 "nbformat_minor": 2
}
